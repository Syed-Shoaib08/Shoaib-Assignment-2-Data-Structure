{
 "cells": [
  {
   "cell_type": "code",
   "execution_count": 3,
   "id": "d53cccd7-a1e4-42da-860a-b37016a9bee7",
   "metadata": {},
   "outputs": [],
   "source": [
    "#Q1. How do you comment code in Python? What are the different types of comments?\n",
    "#Ansrwe)\n",
    "# If we want to begin any comment in python, than it starts with hash mark(#).\n",
    "#There are two types of comments in python, they are,single line comment and multiple line comments.\n",
    "# Single line comments starts and ends in the same line which is initiated with the hash mark(#).\n",
    "#In Multiple line comments, there is no limit of writing the comments, developer uses it when he/she needs to write a complete paragraph or multiple instructions which are not the part of the code.\n",
    "#Even Multiple line comments stars with the hash mark(#)"
   ]
  },
  {
   "cell_type": "code",
   "execution_count": 7,
   "id": "826ea4ec-2e12-4a6e-aca9-fb66481ce4d1",
   "metadata": {},
   "outputs": [],
   "source": [
    "#Q2. What are variables in Python? How do you declare and assign values to variables?\n",
    "#Answer)\n",
    "#Variable is a name given to the memory location. For declaring we first use any character or a group of charaters which we can say as naming and with the equal to(=) sign we enter the value we want to assign to that variable. That valus may be string, Integer, floot, Boolen, Dictionary, etc\n",
    "#Example\n",
    "#a=45, here whenever we calls the a, will get 45 which means we have assigned 45 to the variable a."
   ]
  },
  {
   "cell_type": "code",
   "execution_count": 9,
   "id": "bfa0e5ae-d63d-40e9-af31-1edb40258842",
   "metadata": {},
   "outputs": [],
   "source": [
    "#Q3. How do you convert one data type to another in Python?\n",
    "#Answer)\n",
    "#There are two methods to convert one data type to another,\n",
    "#1)Implicit type conversion: In this type of conversion of data type, python interpreter automatically converts one type of data into another without any user involvement\n",
    "#for an example if we add any integer number with float number, the output will be in float number\n",
    "\n",
    "#2)Explicit type conversion: Here user have to mention the type of data type which he/she whants in the output.\n",
    "#example:\n",
    "#if a=2, \n",
    "#since a is interger data type and if we want to convert it in float then we should follow the below method\n",
    "#float(a)\n",
    "#o/p: 2.0"
   ]
  },
  {
   "cell_type": "code",
   "execution_count": null,
   "id": "95d55c8d-9493-422c-ab61-2f56fd844f84",
   "metadata": {},
   "outputs": [],
   "source": []
  },
  {
   "cell_type": "code",
   "execution_count": 1,
   "id": "cb055e47-3b59-44ca-b0c1-17db1568fbf0",
   "metadata": {},
   "outputs": [],
   "source": [
    "#Q4. How do you write and execute a Python script from the command line?\n",
    "# Answer)\n",
    "#To write and execute a Python script from the command line, we need to verify that our terminal or command prompt can run Python. Then, will create a Python script that is error-free. To run the script, we can call the Python program from the Command Prompt and tell it which file to execute. we can also specify the path to the script or have the same working directory. To exit the interactive session, we can type quit() or exit()"
   ]
  },
  {
   "cell_type": "code",
   "execution_count": null,
   "id": "5e75430a-c06b-47d7-b982-cb7002565f32",
   "metadata": {},
   "outputs": [],
   "source": []
  },
  {
   "cell_type": "code",
   "execution_count": 2,
   "id": "577bd0a9-4689-4549-b84c-7950e848583f",
   "metadata": {},
   "outputs": [],
   "source": [
    "#Q5. Given a list my_list = [1, 2, 3, 4, 5], write the code to slice the list and obtain the sub-list [2, 3]."
   ]
  },
  {
   "cell_type": "code",
   "execution_count": 3,
   "id": "e3815c52-d7e9-46b0-b09d-4da5df0be7e7",
   "metadata": {},
   "outputs": [],
   "source": [
    "my_list=[1,2,3,4,5]"
   ]
  },
  {
   "cell_type": "code",
   "execution_count": 33,
   "id": "4c291375-1df8-43f7-bdf1-bb2566cfad58",
   "metadata": {},
   "outputs": [
    {
     "data": {
      "text/plain": [
       "[2, 3]"
      ]
     },
     "execution_count": 33,
     "metadata": {},
     "output_type": "execute_result"
    }
   ],
   "source": [
    "my_list[1:3]"
   ]
  },
  {
   "cell_type": "code",
   "execution_count": null,
   "id": "996719d3-4771-4714-b5fe-a719127e24d6",
   "metadata": {},
   "outputs": [],
   "source": []
  },
  {
   "cell_type": "code",
   "execution_count": 5,
   "id": "36fab935-2724-47a7-a14f-21dd32d39a21",
   "metadata": {},
   "outputs": [],
   "source": [
    "#Q6. What is a complex number in mathematics, and how is it represented in Python?"
   ]
  },
  {
   "cell_type": "code",
   "execution_count": 6,
   "id": "214efd91-11ea-409b-8c79-bb5f60419980",
   "metadata": {},
   "outputs": [],
   "source": [
    "#Answer)\n",
    "#Complex number is something which has a real and an imaginary part. \n",
    "#E.g : 34 + 17j or 34+17J"
   ]
  },
  {
   "cell_type": "code",
   "execution_count": null,
   "id": "f8d2fda3-91ba-45a4-9e24-afc6251463b0",
   "metadata": {},
   "outputs": [],
   "source": []
  },
  {
   "cell_type": "code",
   "execution_count": 10,
   "id": "7e9236e0-befc-4d74-8a3c-1d00538dc150",
   "metadata": {},
   "outputs": [
    {
     "data": {
      "text/plain": [
       "25"
      ]
     },
     "execution_count": 10,
     "metadata": {},
     "output_type": "execute_result"
    }
   ],
   "source": [
    "#Q7. What is the correct way to declare a variable named age and assign the value 25 to it?\n",
    "\n",
    "#Variable names must begin with a letter, underscore, non-number character. and we must always use the ‘=’ sign to initialize a value to the Variable.\n",
    "\n",
    "age=25\n",
    "age"
   ]
  },
  {
   "cell_type": "code",
   "execution_count": null,
   "id": "fe073fec-b009-400e-8baf-d14bed276a13",
   "metadata": {},
   "outputs": [],
   "source": []
  },
  {
   "cell_type": "code",
   "execution_count": 11,
   "id": "d074bb10-38ae-4ce1-b627-0a6426b7b1dd",
   "metadata": {},
   "outputs": [],
   "source": [
    "#Q8. Declare a variable named price and assign the value 9.99 to it. What data type does this variable belong to?"
   ]
  },
  {
   "cell_type": "code",
   "execution_count": 14,
   "id": "5213434a-4b64-4f49-a3ad-7201dff978fa",
   "metadata": {},
   "outputs": [],
   "source": [
    "#answer\n",
    "price=9.99\n",
    "#its a float data type"
   ]
  },
  {
   "cell_type": "code",
   "execution_count": 15,
   "id": "3df31ad8-cc25-44a8-9fcf-bf81f5601c5d",
   "metadata": {},
   "outputs": [
    {
     "data": {
      "text/plain": [
       "float"
      ]
     },
     "execution_count": 15,
     "metadata": {},
     "output_type": "execute_result"
    }
   ],
   "source": [
    "type(price)"
   ]
  },
  {
   "cell_type": "code",
   "execution_count": null,
   "id": "f0881185-4f4a-4890-b435-65b2d64429d1",
   "metadata": {},
   "outputs": [],
   "source": []
  },
  {
   "cell_type": "code",
   "execution_count": 16,
   "id": "6b62fe05-47d3-4ec2-b281-150055969efa",
   "metadata": {},
   "outputs": [],
   "source": [
    "#Q9. Create a variable named name and assign your full name to it as a string. How would you print the value of this variable?"
   ]
  },
  {
   "cell_type": "code",
   "execution_count": 17,
   "id": "15cd8f54-8fc3-4854-983b-763181e0fb65",
   "metadata": {},
   "outputs": [],
   "source": [
    "name='syed shoaib'"
   ]
  },
  {
   "cell_type": "code",
   "execution_count": 32,
   "id": "066071fc-f1bd-427f-904e-f0d375f40d30",
   "metadata": {},
   "outputs": [
    {
     "data": {
      "text/plain": [
       "'syed shoaib'"
      ]
     },
     "execution_count": 32,
     "metadata": {},
     "output_type": "execute_result"
    }
   ],
   "source": [
    "name"
   ]
  },
  {
   "cell_type": "code",
   "execution_count": 21,
   "id": "26ccc51c-643c-4763-85cf-c42de4857b26",
   "metadata": {},
   "outputs": [
    {
     "name": "stdout",
     "output_type": "stream",
     "text": [
      "s\n",
      "y\n",
      "e\n",
      "d\n",
      " \n",
      "s\n",
      "h\n",
      "o\n",
      "a\n",
      "i\n",
      "b\n"
     ]
    }
   ],
   "source": [
    "#or another way\n",
    "for i in name:\n",
    "    print(i)"
   ]
  },
  {
   "cell_type": "code",
   "execution_count": null,
   "id": "759e3f7e-1a7c-484c-9cb6-be9970cccc8d",
   "metadata": {},
   "outputs": [],
   "source": []
  },
  {
   "cell_type": "code",
   "execution_count": 22,
   "id": "f362b63e-97b5-45ab-81cc-f1edd01338d4",
   "metadata": {},
   "outputs": [],
   "source": [
    "#Q10. Given the string \"Hello, World!\", extract the substring \"World\"."
   ]
  },
  {
   "cell_type": "code",
   "execution_count": 25,
   "id": "91b83f32-2702-4601-b1ce-f8599a433909",
   "metadata": {},
   "outputs": [],
   "source": [
    "a='hello world!'"
   ]
  },
  {
   "cell_type": "code",
   "execution_count": 28,
   "id": "0792e713-2a03-4f9b-b399-ed0090f4284f",
   "metadata": {},
   "outputs": [
    {
     "data": {
      "text/plain": [
       "'world'"
      ]
     },
     "execution_count": 28,
     "metadata": {},
     "output_type": "execute_result"
    }
   ],
   "source": [
    "a[6:11]"
   ]
  },
  {
   "cell_type": "code",
   "execution_count": null,
   "id": "17ef1e2a-8efb-4f7c-990d-6402dcc26c14",
   "metadata": {},
   "outputs": [],
   "source": []
  },
  {
   "cell_type": "code",
   "execution_count": 29,
   "id": "72ab5820-04df-4cf2-85e9-4558de587af9",
   "metadata": {},
   "outputs": [],
   "source": [
    "#Q11. Create a variable named \"is_student\" and assign it a boolean value indicating whether you are currently a student or not."
   ]
  },
  {
   "cell_type": "code",
   "execution_count": 31,
   "id": "d31a8f8f-39df-424a-84d7-3192d3842599",
   "metadata": {},
   "outputs": [
    {
     "name": "stdin",
     "output_type": "stream",
     "text": [
      "are you a student yes\n"
     ]
    },
    {
     "name": "stdout",
     "output_type": "stream",
     "text": [
      "True\n"
     ]
    }
   ],
   "source": [
    "#answer\n",
    "is_student=input('are you a student')\n",
    "if is_student=='yes':\n",
    "    print(True)\n",
    "else:\n",
    "    print(False)"
   ]
  },
  {
   "cell_type": "code",
   "execution_count": null,
   "id": "a07f766f-fbca-4a95-9d01-9c9a2b2cac39",
   "metadata": {},
   "outputs": [],
   "source": []
  }
 ],
 "metadata": {
  "kernelspec": {
   "display_name": "Python 3 (ipykernel)",
   "language": "python",
   "name": "python3"
  },
  "language_info": {
   "codemirror_mode": {
    "name": "ipython",
    "version": 3
   },
   "file_extension": ".py",
   "mimetype": "text/x-python",
   "name": "python",
   "nbconvert_exporter": "python",
   "pygments_lexer": "ipython3",
   "version": "3.10.8"
  }
 },
 "nbformat": 4,
 "nbformat_minor": 5
}
